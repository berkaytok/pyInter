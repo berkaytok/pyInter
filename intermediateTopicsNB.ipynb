{
 "cells": [
  {
   "attachments": {},
   "cell_type": "markdown",
   "metadata": {},
   "source": [
    "### Coercions\n",
    "\n",
    "Coercion in Python refers to the automatic or implicit conversion of one data type to another data type.\n",
    "\n",
    "For example, when you use the \"+\" operator with two operands of different data types, Python will try to convert one of the operands to the data type of the other operand. This is called coercion.\n",
    "\n",
    "Here's an example:"
   ]
  },
  {
   "cell_type": "code",
   "execution_count": null,
   "metadata": {},
   "outputs": [],
   "source": [
    "a = 5\n",
    "b = \"10\"\n",
    "c = a + b  # Python will try to convert 'a' to a string and then concatenate it with 'b'\n",
    "print(c)  # Output: \"510\""
   ]
  },
  {
   "attachments": {},
   "cell_type": "markdown",
   "metadata": {},
   "source": [
    "In this example, Python will automatically convert the integer value of a to a string, so that it can concatenate it with the string value of b.\n",
    "\n",
    "Coercion can be useful in some cases, because it allows you to write code that is more concise and easier to read. However, it can also be a source of bugs and unexpected behavior if you're not careful.\n",
    "\n",
    "It's generally a good practice to avoid relying on coercion whenever possible, and to be explicit about data types in your code. You can use explicit type conversion functions like int(), float(), str(), etc. to convert data types when needed, rather than relying on implicit coercion."
   ]
  },
  {
   "attachments": {},
   "cell_type": "markdown",
   "metadata": {},
   "source": [
    "#### List Coersions\n",
    "\n",
    "In Python, list coercion is the process of converting an iterable (such as a string, tuple, or set) into a list. This can be done using the list() function, which takes the iterable as an argument and returns a new list containing the elements of the iterable.\n",
    "\n",
    "Here are some examples of list coercion in Python:"
   ]
  },
  {
   "cell_type": "code",
   "execution_count": null,
   "metadata": {},
   "outputs": [],
   "source": [
    "# Convert a string into a list of characters\n",
    "string = \"hello\"\n",
    "char_list = list(string)\n",
    "print(char_list) # Output: ['h', 'e', 'l', 'l', 'o']\n",
    "\n",
    "# Convert a tuple into a list\n",
    "tuple = (1, 2, 3)\n",
    "list_from_tuple = list(tuple)\n",
    "print(list_from_tuple) # Output: [1, 2, 3]\n",
    "\n",
    "# Convert a set into a list\n",
    "set = {1, 2, 3}\n",
    "list_from_set = list(set)\n",
    "print(list_from_set) # Output: [1, 2, 3]"
   ]
  },
  {
   "attachments": {},
   "cell_type": "markdown",
   "metadata": {},
   "source": [
    "In each of these examples, the list() function is used to convert an iterable into a list. The resulting list contains the same elements as the original iterable, but in list form.\n",
    "\n",
    "List coercion can be very useful in situations where you need to perform list-specific operations on an iterable. For example, if you need to sort the elements of a tuple or count the occurrences of each element in a set, it may be easier to convert the iterable into a list first, and then perform the desired operations on the resulting list."
   ]
  },
  {
   "attachments": {},
   "cell_type": "markdown",
   "metadata": {},
   "source": [
    "#### Dictionary Coercions\n",
    "\n",
    "Dictionary coercion is the process of converting an iterable (such as a list of tuples) into a dictionary. This can be done using the dict() function, which takes the iterable as an argument and returns a new dictionary containing key-value pairs extracted from the iterable.\n",
    "\n",
    "Here are some examples of dictionary coercion in Python:"
   ]
  },
  {
   "cell_type": "markdown",
   "metadata": {},
   "source": [
    "### *args, **kwargs \n",
    "\n",
    "Sure, *args and **kwargs are special syntax in Python that allow you to pass a variable number of arguments to a function.\n",
    "\n",
    "*args is used to pass a variable number of positional arguments to a function. It allows you to pass any number of arguments to the function, and they will be collected into a tuple. Here's an example:"
   ]
  },
  {
   "cell_type": "code",
   "execution_count": null,
   "metadata": {},
   "outputs": [],
   "source": [
    "def add_numbers(*args):\n",
    "    sum = 0\n",
    "    for num in args:\n",
    "        sum += num\n",
    "    return sum\n",
    "\n",
    "result = add_numbers(1, 2, 3, 4, 5)\n",
    "print(result) # Output: 15"
   ]
  },
  {
   "attachments": {},
   "cell_type": "markdown",
   "metadata": {},
   "source": [
    "In this example, the add_numbers function takes a variable number of arguments using the *args syntax. The args parameter is treated as a tuple containing all the positional arguments passed to the function. The function then adds up all the numbers in the tuple and returns the sum.\n",
    "\n",
    "**kwargs is used to pass a variable number of keyword arguments to a function. It allows you to pass any number of named arguments to the function, and they will be collected into a dictionary. Here's an example:"
   ]
  },
  {
   "cell_type": "code",
   "execution_count": null,
   "metadata": {},
   "outputs": [],
   "source": [
    "def print_info(**kwargs):\n",
    "    for key, value in kwargs.items():\n",
    "        print(f\"{key}: {value}\")\n",
    "\n",
    "print_info(name=\"Alice\", age=30, occupation=\"programmer\")\n",
    "# Output:\n",
    "# name: Alice\n",
    "# age: 30\n",
    "# occupation: programmer"
   ]
  },
  {
   "attachments": {},
   "cell_type": "markdown",
   "metadata": {},
   "source": [
    "In this example, the print_info function takes a variable number of keyword arguments using the **kwargs syntax. The kwargs parameter is treated as a dictionary containing all the keyword arguments passed to the function. The function then prints out each key-value pair in the dictionary.\n",
    "\n",
    "You can also use *args and **kwargs together to pass a variable number of both positional and keyword arguments to a function. Here's an example:"
   ]
  },
  {
   "cell_type": "code",
   "execution_count": null,
   "metadata": {},
   "outputs": [],
   "source": [
    "def print_all(*args, **kwargs):\n",
    "    print(\"Positional arguments:\")\n",
    "    for arg in args:\n",
    "        print(arg)\n",
    "    print(\"Keyword arguments:\")\n",
    "    for key, value in kwargs.items():\n",
    "        print(f\"{key}: {value}\")\n",
    "\n",
    "print_all(1, 2, 3, name=\"Alice\", age=30, occupation=\"programmer\")\n",
    "# Output:\n",
    "# Positional arguments:\n",
    "# 1\n",
    "# 2\n",
    "# 3\n",
    "# Keyword arguments:\n",
    "# name: Alice\n",
    "# age: 30\n",
    "# occupation: programmer"
   ]
  },
  {
   "attachments": {},
   "cell_type": "markdown",
   "metadata": {},
   "source": [
    "In this example, the print_all function takes both positional and keyword arguments using both *args and **kwargs. The args parameter is treated as a tuple containing all the positional arguments passed to the function, and the kwargs parameter is treated as a dictionary containing all the keyword arguments passed to the function. The function then prints out all the arguments and keyword arguments."
   ]
  },
  {
   "attachments": {},
   "cell_type": "markdown",
   "metadata": {},
   "source": [
    "### Object Oriented Programming\n",
    "\n",
    "Here's a brief overview of some of the key OOP concepts in Python:\n",
    "\n",
    "Classes: A class is a blueprint for creating objects. It defines a set of attributes (data) and methods (functions) that the objects of the class will have.\n",
    "\n",
    "Objects: An object is an instance of a class. It has its own set of attributes and can call the methods defined in its class.\n",
    "\n",
    "Inheritance: Inheritance is a mechanism for creating a new class that is a modified version of an existing class. The new class inherits the attributes and methods of the existing class, and can also add its own attributes and methods.\n",
    "\n",
    "Polymorphism: Polymorphism is the ability of objects of different classes to be used interchangeably. This means that if two classes have the same method names, they can be used in the same way.\n",
    "\n",
    "Encapsulation: Encapsulation is the process of hiding the implementation details of an object from the user. This is achieved by making the attributes of an object private, so that they can only be accessed through methods defined in the class.\n",
    "\n",
    "Here's an example of a simple class in Python:"
   ]
  },
  {
   "cell_type": "code",
   "execution_count": null,
   "metadata": {},
   "outputs": [],
   "source": [
    "class Rectangle:\n",
    "    def __init__(self, width, height):\n",
    "        self.width = width\n",
    "        self.height = height\n",
    "\n",
    "    def area(self):\n",
    "        return self.width * self.height\n",
    "\n",
    "    def perimeter(self):\n",
    "        return 2 * (self.width + self.height)"
   ]
  },
  {
   "attachments": {},
   "cell_type": "markdown",
   "metadata": {},
   "source": [
    "In this example, the Rectangle class represents a rectangle object. It has two attributes (width and height) and two methods (area() and perimeter()). The `__init__`() method is a special method that is called when an object of the class is created. It initializes the width and height attributes of the object.\n",
    "\n",
    "To create an instance of the Rectangle class, you can use the following code:"
   ]
  },
  {
   "cell_type": "code",
   "execution_count": null,
   "metadata": {},
   "outputs": [],
   "source": [
    "r = Rectangle(5, 10)"
   ]
  },
  {
   "attachments": {},
   "cell_type": "markdown",
   "metadata": {},
   "source": [
    "This creates a new Rectangle object with a width of 5 and a height of 10. You can then call the methods of the object:"
   ]
  },
  {
   "cell_type": "code",
   "execution_count": null,
   "metadata": {},
   "outputs": [],
   "source": [
    "print(r.area())\n",
    "print(r.perimeter())"
   ]
  },
  {
   "attachments": {},
   "cell_type": "markdown",
   "metadata": {},
   "source": [
    "This will output:"
   ]
  },
  {
   "cell_type": "code",
   "execution_count": null,
   "metadata": {},
   "outputs": [],
   "source": [
    "50\n",
    "30"
   ]
  },
  {
   "attachments": {},
   "cell_type": "markdown",
   "metadata": {},
   "source": [
    "In this example, we've only scratched the surface of OOP in Python. There are many more advanced concepts to explore, such as inheritance, polymorphism, and abstract classes. But hopefully this gives you a good starting point for understanding OOP in Python!"
   ]
  },
  {
   "attachments": {},
   "cell_type": "markdown",
   "metadata": {},
   "source": [
    "#### Inheritance\n",
    "\n",
    "Inheritance is a mechanism in object-oriented programming that allows you to define a new class based on an existing class. The new class is called a subclass, and the existing class is called the superclass.\n",
    "\n",
    "When a subclass inherits from a superclass, it inherits all of the superclass's attributes and methods. The subclass can then add new attributes and methods, or override existing ones.\n",
    "\n",
    "Here's an example:"
   ]
  },
  {
   "cell_type": "code",
   "execution_count": null,
   "metadata": {},
   "outputs": [],
   "source": [
    "class Animal:\n",
    "    def __init__(self, name, species):\n",
    "        self.name = name\n",
    "        self.species = species\n",
    "\n",
    "    def make_sound(self):\n",
    "        print(\"This animal makes a sound.\")\n",
    "\n",
    "class Dog(Animal):\n",
    "    def __init__(self, name):\n",
    "        super().__init__(name, \"dog\")\n",
    "\n",
    "    def make_sound(self):\n",
    "        print(\"Woof!\")"
   ]
  },
  {
   "attachments": {},
   "cell_type": "markdown",
   "metadata": {},
   "source": [
    "In this example, the Animal class represents an animal object. It has two attributes (name and species) and one method (make_sound()). The Dog class inherits from the Animal class, so it has the same attributes and methods as the Animal class.\n",
    "\n",
    "However, the Dog class also has its own make_sound() method, which overrides the make_sound() method of the Animal class. When you call make_sound() on a Dog object, it will print \"Woof!\" instead of \"This animal makes a sound.\""
   ]
  },
  {
   "cell_type": "code",
   "execution_count": null,
   "metadata": {},
   "outputs": [],
   "source": [
    "my_dog = Dog(\"Fido\")\n",
    "print(my_dog.name)\n",
    "print(my_dog.species)\n",
    "my_dog.make_sound()"
   ]
  },
  {
   "attachments": {},
   "cell_type": "markdown",
   "metadata": {},
   "source": [
    "This will output:"
   ]
  },
  {
   "cell_type": "code",
   "execution_count": null,
   "metadata": {},
   "outputs": [],
   "source": [
    "Fido\n",
    "dog\n",
    "Woof!"
   ]
  },
  {
   "attachments": {},
   "cell_type": "markdown",
   "metadata": {},
   "source": [
    "#### Polymorphism\n",
    "\n",
    "Polymorphism is a key feature of object-oriented programming that allows different objects to be treated in a similar way, even if they have different types. In Python, this is typically achieved through method overriding and method overloading.\n",
    "\n",
    "Method overriding occurs when a subclass defines a method with the same name as a method in the superclass. When an object of the subclass is created, the subclass's method is used instead of the superclass's method. For example:"
   ]
  },
  {
   "cell_type": "code",
   "execution_count": null,
   "metadata": {},
   "outputs": [],
   "source": [
    "class Animal:\n",
    "    def make_sound(self):\n",
    "        print(\"This animal makes a sound.\")\n",
    "\n",
    "class Dog(Animal):\n",
    "    def make_sound(self):\n",
    "        print(\"Woof!\")\n",
    "\n",
    "class Cat(Animal):\n",
    "    def make_sound(self):\n",
    "        print(\"Meow!\")\n",
    "\n",
    "my_dog = Dog()\n",
    "my_cat = Cat()\n",
    "\n",
    "my_dog.make_sound()  # Output: \"Woof!\"\n",
    "my_cat.make_sound()  # Output: \"Meow!\""
   ]
  },
  {
   "attachments": {},
   "cell_type": "markdown",
   "metadata": {},
   "source": [
    "In this example, both the Dog and Cat classes inherit from the Animal class and override the make_sound() method. When make_sound() is called on my_dog, the Dog class's implementation is used, and when it's called on my_cat, the Cat class's implementation is used.\n",
    "\n",
    "Method overloading is the ability to define multiple methods with the same name, but with different parameters. This is not directly supported in Python, but you can achieve similar functionality using default parameter values or variable-length argument lists. For example:"
   ]
  },
  {
   "cell_type": "code",
   "execution_count": null,
   "metadata": {},
   "outputs": [],
   "source": [
    "class Math:\n",
    "    def add(self, x, y):\n",
    "        return x + y\n",
    "\n",
    "    def add(self, x, y, z):\n",
    "        return x + y + z\n",
    "\n",
    "my_math = Math()\n",
    "\n",
    "print(my_math.add(1, 2))        # Output: TypeError: add() missing 1 required positional argument: 'z'\n",
    "print(my_math.add(1, 2, 3))     # Output: 6"
   ]
  },
  {
   "attachments": {},
   "cell_type": "markdown",
   "metadata": {},
   "source": [
    "In this example, the Math class defines two methods named add(), one that takes two parameters and one that takes three. However, when you try to call add() with only two parameters, you get a TypeError. This is because method overloading is not directly supported in Python.\n",
    "\n",
    "Polymorphism is a powerful feature of object-oriented programming that allows you to write code that can work with many different types of objects in a consistent way. It's one of the key concepts in OOP, and is used extensively in Python and other object-oriented languages."
   ]
  },
  {
   "attachments": {},
   "cell_type": "markdown",
   "metadata": {},
   "source": [
    "#### Metaclasses\n",
    "\n",
    "In Python, a metaclass is a class that defines the behavior of other classes. When you create a new class in Python, you're actually creating an object of type type, which is itself a class. This means that you can use a metaclass to customize the way new classes are created, by defining your own class that inherits from type.\n",
    "\n",
    "The primary use case for metaclasses is to add new features or behavior to classes that you define. For example, you might use a metaclass to automatically generate methods based on the class name, or to perform some validation on class attributes before they're defined.\n",
    "\n",
    "Here's a simple example that demonstrates how to define a metaclass in Python:"
   ]
  },
  {
   "cell_type": "code",
   "execution_count": null,
   "metadata": {},
   "outputs": [],
   "source": [
    "class MyMeta(type):\n",
    "    def __new__(cls, name, bases, attrs):\n",
    "        # Add a new class attribute to all classes created with this metaclass\n",
    "        attrs['my_attribute'] = 'Hello, world!'\n",
    "        \n",
    "        # Create a new class object using the base class and the modified attributes\n",
    "        return super().__new__(cls, name, bases, attrs)\n",
    "\n",
    "class MyClass(metaclass=MyMeta):\n",
    "    pass\n",
    "\n",
    "# Access the class attribute added by the metaclass\n",
    "print(MyClass.my_attribute)  # Output: \"Hello, world!\""
   ]
  },
  {
   "attachments": {},
   "cell_type": "markdown",
   "metadata": {},
   "source": [
    "In this example, we define a new metaclass called MyMeta that adds a new class attribute called my_attribute to all classes created with the metaclass. We then define a new class called MyClass that uses the MyMeta metaclass by setting the metaclass parameter to MyMeta in the class definition.\n",
    "\n",
    "When we create an object of type MyClass, Python automatically calls the `__new__`() method of the MyMeta metaclass to create the new class object. The `__new__`() method takes four arguments:\n",
    "\n",
    "cls: The metaclass object itself (i.e., MyMeta in this case)\n",
    "name: The name of the new class (i.e., MyClass in this case)\n",
    "bases: A tuple of base classes for the new class (i.e., an empty tuple in this case, since MyClass doesn't inherit from any other classes)\n",
    "attrs: A dictionary of class attributes (i.e., an empty dictionary in this case, since we didn't define any attributes in the MyClass definition)\n",
    "The `__new__`() method then modifies the attrs dictionary to add the new my_attribute attribute, and calls the `__new__`() method of the base type class to create the new class object.\n",
    "\n",
    "Finally, we access the my_attribute attribute of the MyClass class to verify that the metaclass behavior is working correctly.\n",
    "\n",
    "This is just a simple example of what you can do with metaclasses in Python. Metaclasses can be quite powerful and complex, so they're typically only used by advanced Python users who need to perform some very specific customizations on their classes."
   ]
  },
  {
   "attachments": {},
   "cell_type": "markdown",
   "metadata": {},
   "source": [
    "#### Understanding `__main__`\n",
    "\n",
    "`__main__` is a special name in Python that refers to the top-level script that's being executed. When you run a Python script from the command line or from an IDE like PyCharm, Python automatically sets the `__name__` variable of the script to `__main__`.\n",
    "\n",
    "Here's an example to illustrate how this works:\n",
    "\n",
    "Suppose you have a Python module called example.py with the following contents:"
   ]
  },
  {
   "cell_type": "code",
   "execution_count": null,
   "metadata": {},
   "outputs": [],
   "source": [
    "def my_function():\n",
    "    print(\"Hello, world!\")\n",
    "\n",
    "print(\"__name__ is:\", __name__)\n",
    "\n",
    "if __name__ == \"__main__\":\n",
    "    my_function()"
   ]
  },
  {
   "attachments": {},
   "cell_type": "markdown",
   "metadata": {},
   "source": [
    "When you run this module from the command line by typing python example.py, you should see the following output:"
   ]
  },
  {
   "cell_type": "code",
   "execution_count": null,
   "metadata": {},
   "outputs": [],
   "source": [
    "__name__ is: __main__\n",
    "Hello, world!"
   ]
  },
  {
   "attachments": {},
   "cell_type": "markdown",
   "metadata": {},
   "source": [
    "Here's what's happening in this code:\n",
    "\n",
    "The my_function() function is defined, which simply prints \"Hello, world!\" when called.\n",
    "The print() statement is used to print the value of the `__name__` variable, which is set to `__main__` when the module is executed from the command line.\n",
    "The if `__name__` == \"`__main__`\": block is used to determine if the module is being executed as the top-level script. If it is, then the my_function() function is called.\n",
    "The purpose of the if `__name__` == \"`__main__`\": block is to allow your module to be imported as a module by other Python scripts without running the code in the block. When you import a module, Python sets the `__name__` variable to the name of the module (i.e., the filename without the .py extension), rather than `__main__`. This allows you to write reusable code that can be imported into other scripts without causing any unintended side effects.\n",
    "\n",
    "In summary, `__main__` is a special name in Python that refers to the top-level script that's being executed, and the if `__name__` == \"`__main__`\": block is used to determine if the module is being executed as the top-level script or if it's being imported as a module by another script."
   ]
  },
  {
   "attachments": {},
   "cell_type": "markdown",
   "metadata": {},
   "source": [
    "#### Abstract Classes\n",
    "\n",
    "In Python, an abstract class is a class that can't be instantiated directly. Instead, it's used as a base class for other classes, and is designed to be subclassed by other classes that will implement its abstract methods.\n",
    "\n",
    "An abstract method is a method that doesn't have an implementation in the abstract class, but must be implemented in any concrete subclass. This allows the abstract class to define a common interface for its subclasses, without dictating the exact implementation details.\n",
    "\n",
    "Here's an example of an abstract class in Python:"
   ]
  },
  {
   "cell_type": "code",
   "execution_count": null,
   "metadata": {},
   "outputs": [],
   "source": [
    "from abc import ABC, abstractmethod\n",
    "\n",
    "class Animal(ABC):\n",
    "    @abstractmethod\n",
    "    def make_sound(self):\n",
    "        pass\n",
    "\n",
    "class Dog(Animal):\n",
    "    def make_sound(self):\n",
    "        print(\"Woof!\")\n",
    "\n",
    "class Cat(Animal):\n",
    "    def make_sound(self):\n",
    "        print(\"Meow!\")\n",
    "\n",
    "my_dog = Dog()\n",
    "my_cat = Cat()\n",
    "\n",
    "my_dog.make_sound()  # Output: \"Woof!\"\n",
    "my_cat.make_sound()  # Output: \"Meow!\""
   ]
  },
  {
   "attachments": {},
   "cell_type": "markdown",
   "metadata": {},
   "source": [
    "In this example, the Animal class is defined as an abstract class, with an abstract method named make_sound(). The Dog and Cat classes both inherit from Animal, and override the make_sound() method.\n",
    "\n",
    "When you create an instance of Dog or Cat, you can call their make_sound() methods, and the appropriate implementation is used. However, if you try to create an instance of Animal directly, you'll get an error, because it's an abstract class and can't be instantiated directly."
   ]
  },
  {
   "cell_type": "code",
   "execution_count": null,
   "metadata": {},
   "outputs": [],
   "source": [
    "my_animal = Animal()  # Output: TypeError: Can't instantiate abstract class Animal with abstract methods make_sound"
   ]
  },
  {
   "attachments": {},
   "cell_type": "markdown",
   "metadata": {},
   "source": [
    "Abstract classes are useful when you want to define a common interface for a group of related classes, but you don't want to dictate the exact implementation details. They provide a way to enforce a certain level of consistency and structure in your code, while still allowing for flexibility and customization in the concrete subclasses."
   ]
  },
  {
   "attachments": {},
   "cell_type": "markdown",
   "metadata": {},
   "source": [
    "#### Context Managers\n",
    "\n",
    "A context manager is an object that defines the runtime context to be established when executing a block of code. The most common use case for a context manager is to handle resources that need to be acquired and released in a safe and predictable way. For example, opening a file or a network connection are operations that require the use of system resources, and it's important to make sure that these resources are released when they're no longer needed, even if an error occurs.\n",
    "\n",
    "In Python, context managers are implemented using two methods: `__enter__`() and `__exit__`(). When a block of code is executed inside a with statement, the `__enter__`() method of the context manager is called at the beginning of the block, and the `__exit__`() method is called at the end of the block. The `__enter__`() method is responsible for setting up the runtime context, and the `__exit__`() method is responsible for tearing it down.\n",
    "\n",
    "Here's an example to illustrate how this works:"
   ]
  },
  {
   "cell_type": "code",
   "execution_count": null,
   "metadata": {},
   "outputs": [],
   "source": [
    "class MyContextManager:\n",
    "    def __init__(self, resource):\n",
    "        self.resource = resource\n",
    "\n",
    "    def __enter__(self):\n",
    "        print(\"Acquiring resource:\", self.resource)\n",
    "        return self\n",
    "\n",
    "    def __exit__(self, exc_type, exc_value, traceback):\n",
    "        print(\"Releasing resource:\", self.resource)\n",
    "\n",
    "# Usage:\n",
    "with MyContextManager(\"file.txt\") as cm:\n",
    "    print(\"Inside with block\")"
   ]
  },
  {
   "attachments": {},
   "cell_type": "markdown",
   "metadata": {},
   "source": [
    "In this example, MyContextManager is a class that defines a context manager. The constructor takes a resource argument that represents the resource that needs to be acquired and released. The `__enter__`() method simply prints a message indicating that the resource is being acquired, and returns the context manager object itself. The `__exit__`() method prints a message indicating that the resource is being released.\n",
    "\n",
    "The with statement is used to create a context in which the resource is managed by the MyContextManager object. When the with statement is executed, Python calls the `__enter__`() method of the context manager, which prints a message indicating that the resource is being acquired. The `__enter__`() method returns the context manager object, which is assigned to the cm variable. The code inside the with block is executed, which simply prints a message indicating that it's inside the block. When the end of the block is reached, Python calls the `__exit__`() method of the context manager, which prints a message indicating that the resource is being released.\n",
    "\n",
    "In summary, context managers are objects that define a runtime context to be established when executing a block of code, and are used to handle resources that need to be acquired and released in a safe and predictable way. In Python, context managers are implemented using the with statement and the `__enter__`() and `__exit__`() methods."
   ]
  },
  {
   "attachments": {},
   "cell_type": "markdown",
   "metadata": {},
   "source": [
    "### Decorators\n",
    "\n",
    "In Python, a decorator is a special function that takes another function as input and returns a new function that modifies or extends the behavior of the original function. Decorators are used to add functionality to a function or class without modifying their source code."
   ]
  },
  {
   "cell_type": "code",
   "execution_count": null,
   "metadata": {},
   "outputs": [],
   "source": [
    "def log_decorator(func):\n",
    "    def wrapper(*args, **kwargs):\n",
    "        print(f\"Calling function {func.__name__}\")\n",
    "        result = func(*args, **kwargs)\n",
    "        print(f\"Function {func.__name__} finished with result {result}\")\n",
    "        return result\n",
    "    return wrapper\n",
    "\n",
    "@log_decorator\n",
    "def add_numbers(a, b):\n",
    "    return a + b\n",
    "\n",
    "result = add_numbers(1, 2)\n",
    "print(result) # Output: 3\n"
   ]
  },
  {
   "attachments": {},
   "cell_type": "markdown",
   "metadata": {},
   "source": [
    "In this example, the log_decorator function is a decorator that takes another function as input (func) and returns a new function called wrapper. The wrapper function adds logging statements before and after the original function (func) is called. Finally, the wrapper function returns the result of the original function.\n",
    "\n",
    "To use the log_decorator, we apply it to the add_numbers function using the @ syntax. This means that when the add_numbers function is called, it will actually call the wrapper function returned by the log_decorator. This allows us to add logging to the add_numbers function without modifying its source code.\n",
    "\n",
    "Here's another example of a decorator that caches the results of a function:"
   ]
  },
  {
   "cell_type": "code",
   "execution_count": null,
   "metadata": {},
   "outputs": [],
   "source": [
    "def cache_decorator(func):\n",
    "    cache = {}\n",
    "    def wrapper(*args, **kwargs):\n",
    "        key = str(args) + str(kwargs)\n",
    "        if key not in cache:\n",
    "            cache[key] = func(*args, **kwargs)\n",
    "        return cache[key]\n",
    "    return wrapper\n",
    "\n",
    "@cache_decorator\n",
    "def factorial(n):\n",
    "    if n == 0:\n",
    "        return 1\n",
    "    else:\n",
    "        return n * factorial(n-1)\n",
    "\n",
    "result = factorial(5)\n",
    "print(result) # Output: 120"
   ]
  },
  {
   "attachments": {},
   "cell_type": "markdown",
   "metadata": {},
   "source": [
    "In this example, the cache_decorator function is a decorator that takes another function as input (func) and returns a new function called wrapper. The wrapper function checks if the arguments to the original function (func) have been cached before. If so, it returns the cached result. Otherwise, it calls the original function and caches the result for future use.\n",
    "\n",
    "To use the cache_decorator, we apply it to the factorial function using the @ syntax. This means that when the factorial function is called with the same argument multiple times, it will only compute the factorial once and then return the cached result for subsequent calls. This can improve performance when computing expensive or frequently-used functions."
   ]
  },
  {
   "attachments": {},
   "cell_type": "markdown",
   "metadata": {},
   "source": [
    "### Iterators\n",
    "\n",
    "Sure! In Python, an iterator is an object that provides a way to access the elements of a collection one at a time, without needing to know the specific details of how the collection is implemented.\n",
    "\n",
    "To create an iterator, you need to define a class that has two methods: __iter__ and __next__. The __iter__ method should return the iterator object itself, and the __next__ method should return the next element in the collection, or raise a StopIteration exception if there are no more elements.\n",
    "\n",
    "Here's an example of an iterator that generates the first n Fibonacci numbers:"
   ]
  },
  {
   "cell_type": "code",
   "execution_count": null,
   "metadata": {},
   "outputs": [],
   "source": [
    "class Fibonacci:\n",
    "    def __init__(self, n):\n",
    "        self.n = n\n",
    "        self.a = 0\n",
    "        self.b = 1\n",
    "        self.count = 0\n",
    "\n",
    "    def __iter__(self):\n",
    "        return self\n",
    "\n",
    "    def __next__(self):\n",
    "        if self.count >= self.n:\n",
    "            raise StopIteration\n",
    "        else:\n",
    "            result = self.a\n",
    "            self.a, self.b = self.b, self.a + self.b\n",
    "            self.count += 1\n",
    "            return result"
   ]
  },
  {
   "attachments": {},
   "cell_type": "markdown",
   "metadata": {},
   "source": [
    "In this example, the Fibonacci class is an iterator that generates the first n Fibonacci numbers. The `__iter__` method returns the iterator object itself, and the `__next__` method generates each number in the sequence one at a time, until the specified number of elements has been generated.\n",
    "\n",
    "To use an iterator, you can create an instance of the iterator class and then iterate over it using a for loop or the next() function to retrieve each value in turn.\n",
    "\n",
    "Here's an example of using the Fibonacci iterator to print the first 10 Fibonacci numbers:"
   ]
  },
  {
   "cell_type": "code",
   "execution_count": null,
   "metadata": {},
   "outputs": [],
   "source": [
    "fib = Fibonacci(10)\n",
    "for num in fib:\n",
    "    print(num)"
   ]
  },
  {
   "attachments": {},
   "cell_type": "markdown",
   "metadata": {},
   "source": [
    "This will output:"
   ]
  },
  {
   "cell_type": "code",
   "execution_count": null,
   "metadata": {},
   "outputs": [],
   "source": [
    "0\n",
    "1\n",
    "1\n",
    "2\n",
    "3\n",
    "5\n",
    "8\n",
    "13\n",
    "21\n",
    "34"
   ]
  },
  {
   "attachments": {},
   "cell_type": "markdown",
   "metadata": {},
   "source": [
    "Iterators are useful when you need to iterate over a collection of values, but you don't want to know the specific details of how the collection is implemented. They are also useful when you need to generate a large sequence of values, since you can generate each value on-the-fly as it is needed, rather than generating them all at once and storing them in memory."
   ]
  },
  {
   "attachments": {},
   "cell_type": "markdown",
   "metadata": {},
   "source": [
    "### Generators\n",
    "\n",
    "A generator is a special type of function that allows you to generate a series of values over time, rather than computing them all at once and returning them in a list.\n",
    "\n",
    "A generator function is defined like a normal function, but instead of returning a value, it uses the yield keyword to temporarily suspend the function's execution and return a value to the caller. The next time the function is called, it resumes execution from where it left off and continues generating values.\n",
    "\n",
    "Here's an example of a generator function:"
   ]
  },
  {
   "cell_type": "code",
   "execution_count": null,
   "metadata": {},
   "outputs": [],
   "source": [
    "def fibonacci(n):\n",
    "    a, b = 0, 1\n",
    "    for i in range(n):\n",
    "        yield a\n",
    "        a, b = b, a + b"
   ]
  },
  {
   "attachments": {},
   "cell_type": "markdown",
   "metadata": {},
   "source": [
    "In this example, the fibonacci function is a generator that generates the first n Fibonacci numbers. The yield keyword is used to return each number one at a time to the caller. When the function is called, it generates the first number and then suspends its execution. The next time the function is called, it resumes execution from where it left off and generates the next number in the sequence. This process continues until all the numbers have been generated.\n",
    "\n",
    "To use a generator, you can call it like a normal function, but instead of getting back a value, you get back a generator object. You can then iterate over the generator object using a for loop or the next() function to retrieve each value in turn.\n",
    "\n",
    "Here's an example of using the fibonacci generator to print the first 10 Fibonacci numbers:"
   ]
  },
  {
   "cell_type": "code",
   "execution_count": null,
   "metadata": {},
   "outputs": [],
   "source": [
    "fib = fibonacci(10)\n",
    "for num in fib:\n",
    "    print(num)"
   ]
  },
  {
   "attachments": {},
   "cell_type": "markdown",
   "metadata": {},
   "source": [
    "This will output:"
   ]
  },
  {
   "cell_type": "code",
   "execution_count": null,
   "metadata": {},
   "outputs": [],
   "source": [
    "0\n",
    "1\n",
    "1\n",
    "2\n",
    "3\n",
    "5\n",
    "8\n",
    "13\n",
    "21\n",
    "34"
   ]
  },
  {
   "attachments": {},
   "cell_type": "markdown",
   "metadata": {},
   "source": [
    "Generators are useful when you need to generate a large sequence of values, but you don't want to compute them all at once and store them in memory. They are also useful when you need to generate an infinite sequence of values, since you can't store an infinite sequence in memory. In these cases, a generator allows you to generate each value on-the-fly as it is needed."
   ]
  },
  {
   "attachments": {},
   "cell_type": "markdown",
   "metadata": {},
   "source": [
    "### Asynchronous Programming\n",
    "\n",
    "Asynchronous programming is a style of programming that allows multiple tasks to be executed concurrently, without blocking the execution of other tasks. This is achieved by using non-blocking operations and event-driven programming. Asynchronous programming is particularly useful when dealing with I/O-bound tasks, such as network communication or file I/O, where the program spends most of its time waiting for data to arrive or be written.\n",
    "\n",
    "In Python, asynchronous programming is supported by the asyncio module, which provides an event loop that allows tasks to be scheduled and executed concurrently. The asyncio module uses coroutines, which are functions that can be suspended and resumed at specific points in the code, to implement asynchronous tasks. Coroutines are defined using the async def syntax, and are called using the await keyword.\n",
    "\n",
    "Here's an example to illustrate how this works:"
   ]
  },
  {
   "cell_type": "code",
   "execution_count": null,
   "metadata": {},
   "outputs": [],
   "source": [
    "import asyncio\n",
    "\n",
    "async def coro1():\n",
    "    print(\"Starting coro1\")\n",
    "    await asyncio.sleep(1)\n",
    "    print(\"Finishing coro1\")\n",
    "\n",
    "async def coro2():\n",
    "    print(\"Starting coro2\")\n",
    "    await asyncio.sleep(2)\n",
    "    print(\"Finishing coro2\")\n",
    "\n",
    "async def main():\n",
    "    print(\"Starting main\")\n",
    "    await asyncio.gather(coro1(), coro2())\n",
    "    print(\"Finishing main\")\n",
    "\n",
    "asyncio.run(main())"
   ]
  },
  {
   "attachments": {},
   "cell_type": "markdown",
   "metadata": {},
   "source": [
    "In this example, we define two coroutines, coro1 and coro2, that simply print a message indicating that they're starting, sleep for a specific amount of time using the asyncio.sleep() function, and then print a message indicating that they're finishing. We also define a main coroutine that simply calls the asyncio.gather() function to schedule the execution of coro1 and coro2 concurrently.\n",
    "\n",
    "The asyncio.run() function is used to run the main coroutine, which starts the event loop and schedules the execution of the coroutines. When the coroutines are executed, they are suspended at the await statements, which allows other coroutines to be executed. Once the asyncio.sleep() functions complete, the coroutines are resumed and they print their final messages.\n",
    "\n",
    "In summary, asynchronous programming is a style of programming that allows multiple tasks to be executed concurrently, without blocking the execution of other tasks. In Python, asynchronous programming is supported by the asyncio module, which provides an event loop that allows tasks to be scheduled and executed concurrently using coroutines and non-blocking I/O operations."
   ]
  }
 ],
 "metadata": {
  "kernelspec": {
   "display_name": "default",
   "language": "python",
   "name": "python3"
  },
  "language_info": {
   "codemirror_mode": {
    "name": "ipython",
    "version": 3
   },
   "file_extension": ".py",
   "mimetype": "text/x-python",
   "name": "python",
   "nbconvert_exporter": "python",
   "pygments_lexer": "ipython3",
   "version": "3.11.0"
  },
  "orig_nbformat": 4
 },
 "nbformat": 4,
 "nbformat_minor": 2
}
